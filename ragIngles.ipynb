{
 "cells": [
  {
   "cell_type": "markdown",
   "metadata": {},
   "source": [
    "# Creación de sistemas RAG sobre bases de datos vectoriales\n",
    "\n",
    "Este proyecto implementa un sistema de Recuperación-Augmentación-Generación (RAG) que construye un almacén de vectores (vector store) a partir de datos extraídos de una página web. Utiliza bibliotecas como `langchain`, `requests` y `beautifulsoup4` para procesar el contenido.\n",
    "\n",
    "## Instalación de dependencias\n",
    "\n",
    "Primero, instala las bibliotecas necesarias para el proyecto:\n",
    "\n",
    "```python\n",
    "# Instalar las bibliotecas necesarias:\n",
    "!pip install langchain requests beautifulsoup4 langchain_huggingface chromadb\n"
   ]
  },
  {
   "cell_type": "markdown",
   "metadata": {},
   "source": [
    "# Extracción del contenido de una página web\n",
    "Este bloque de código se encarga de obtener el contenido de una página web utilizando requests para la solicitud HTTP y BeautifulSoup para el análisis HTML."
   ]
  },
  {
   "cell_type": "code",
   "execution_count": 1,
   "metadata": {},
   "outputs": [],
   "source": [
    "# Extracción de contenido de la página de Wikipedia:\n",
    "# Usaremos requests para obtener el HTML de la página y BeautifulSoup\n",
    "import requests\n",
    "from bs4 import BeautifulSoup\n",
    "from langchain_huggingface import HuggingFaceEmbeddings\n",
    "from langchain_chroma import Chroma\n",
    "from langchain_core.prompts import ChatPromptTemplate\n",
    "from langchain_ollama.llms import OllamaLLM\n",
    "from langchain.chains import RetrievalQA\n",
    "from langchain.docstore.document import Document\n",
    "\n",
    "def extract_text_from_url(url):\n",
    "    response = requests.get(url)\n",
    "    soup = BeautifulSoup(response.content, 'html.parser')\n",
    "    return soup.get_text()\n"
   ]
  },
  {
   "cell_type": "markdown",
   "metadata": {},
   "source": [
    "# División del texto en fragmentos\n",
    "Para manejar grandes cantidades de texto, dividimos el contenido en fragmentos manejables. Esto facilita el procesamiento posterior."
   ]
  },
  {
   "cell_type": "code",
   "execution_count": 2,
   "metadata": {},
   "outputs": [],
   "source": [
    "def split_text(text, chunk_size=500):\n",
    "    return [text[i:i + chunk_size] for i in range(0, len(text), chunk_size)]\n"
   ]
  },
  {
   "cell_type": "markdown",
   "metadata": {},
   "source": [
    "# Configuración del modelo LLM\n",
    "Aquí se define el modelo de lenguaje (LLM) que se utilizará para las consultas. En este caso, se usa OllamaLLM."
   ]
  },
  {
   "cell_type": "code",
   "execution_count": 3,
   "metadata": {},
   "outputs": [],
   "source": [
    "llm = OllamaLLM(model=\"llama3.2\", server_url=\"http://localhost:11434\")\n"
   ]
  },
  {
   "cell_type": "markdown",
   "metadata": {},
   "source": [
    "# Creación del modelo de embeddings y del almacén de vectores\n",
    "El modelo de embeddings convierte texto en representaciones vectoriales, que luego se almacenan en Chroma."
   ]
  },
  {
   "cell_type": "code",
   "execution_count": 4,
   "metadata": {},
   "outputs": [
    {
     "name": "stderr",
     "output_type": "stream",
     "text": [
      "/home/bigdata/miniconda3/envs/rag/lib/python3.13/site-packages/tqdm/auto.py:21: TqdmWarning: IProgress not found. Please update jupyter and ipywidgets. See https://ipywidgets.readthedocs.io/en/stable/user_install.html\n",
      "  from .autonotebook import tqdm as notebook_tqdm\n"
     ]
    }
   ],
   "source": [
    "embedding_model = HuggingFaceEmbeddings(model_name=\"sentence-transformers/all-MiniLM-L6-v2\")\n",
    "\n",
    "vectorstore = Chroma(persist_directory=\"./vectorstore\", embedding_function=embedding_model)\n"
   ]
  },
  {
   "cell_type": "markdown",
   "metadata": {},
   "source": [
    "# Procesamiento del contenido de la página web\n",
    "Se obtiene el contenido de la página web y se divide en fragmentos manejables."
   ]
  },
  {
   "cell_type": "code",
   "execution_count": 5,
   "metadata": {},
   "outputs": [
    {
     "name": "stdout",
     "output_type": "stream",
     "text": [
      "Number of chunks: 29\n"
     ]
    }
   ],
   "source": [
    "url = \"https://english.elpais.com/usa/2024-12-16/trump-says-hell-deport-criminal-migrants-first-but-who-is-he-referring-to.html\"\n",
    "page_content = extract_text_from_url(url) \n",
    "\n",
    "chunks = split_text(page_content)\n",
    "print(f\"Number of chunks: {len(chunks)}\")\n"
   ]
  },
  {
   "cell_type": "markdown",
   "metadata": {},
   "source": [
    "# Adición de documentos al almacén de vectores\n",
    "Cada fragmento de texto se transforma en un documento que se agrega al almacén de vectores."
   ]
  },
  {
   "cell_type": "code",
   "execution_count": 6,
   "metadata": {},
   "outputs": [
    {
     "name": "stdout",
     "output_type": "stream",
     "text": [
      "Documents added to the vector store.\n"
     ]
    }
   ],
   "source": [
    "documents = [Document(page_content=chunk) for chunk in chunks]\n",
    "vectorstore.add_documents(documents)\n",
    "print(\"Documents added to the vector store.\")\n"
   ]
  },
  {
   "cell_type": "markdown",
   "metadata": {},
   "source": [
    "# Creación del prompt para el sistema RAG\n",
    "Se define un prompt para guiar el modelo en la generación de respuestas basadas en el contexto recuperado."
   ]
  },
  {
   "cell_type": "code",
   "execution_count": 7,
   "metadata": {},
   "outputs": [],
   "source": [
    "prompt = ChatPromptTemplate.from_template(\n",
    "    template=\"Use the context below to answer the user's question:\\n\\n{context}\\n\\nQuestion: {question}\\nAnswer:\"\n",
    ")\n"
   ]
  },
  {
   "cell_type": "markdown",
   "metadata": {},
   "source": [
    "# Configuración del sistema RAG\n",
    "El sistema utiliza el almacén de vectores como recuperador para construir una cadena de consulta y generación."
   ]
  },
  {
   "cell_type": "code",
   "execution_count": 8,
   "metadata": {},
   "outputs": [],
   "source": [
    "retriever = vectorstore.as_retriever()\n",
    "\n",
    "qa_chain = RetrievalQA.from_chain_type(\n",
    "    llm=llm,\n",
    "    retriever=retriever,\n",
    "    chain_type_kwargs={\"prompt\": prompt}\n",
    ")\n"
   ]
  },
  {
   "cell_type": "markdown",
   "metadata": {},
   "source": [
    "# Consulta al sistema RAG\n",
    "Por último, se realiza una consulta al sistema para obtener una respuesta basada en el contenido de la página web."
   ]
  },
  {
   "cell_type": "code",
   "execution_count": 9,
   "metadata": {},
   "outputs": [
    {
     "name": "stdout",
     "output_type": "stream",
     "text": [
      "Response: {'query': 'Does it talk about Trump?', 'result': 'Yes, the article talks about Trump. It specifically mentions:\\n\\n* Donald Trump as the president-elect who claimed that 13,000 undocumented murderers are roaming the country.\\n* Trump\\'s first term when his administration enforced the \"zero tolerance\" policy at the border.\\n* Trump\\'s deportation policies, which focused more on migrants who crossed the border illegally rather than those convicted of crimes.\\n* Trump\\'s current stance on immigration and his mass deportation plan.'}\n"
     ]
    }
   ],
   "source": [
    "query = \"Does it talk about Trump?\"\n",
    "response = qa_chain.invoke(query)\n",
    "print(\"Response:\", response)\n"
   ]
  }
 ],
 "metadata": {
  "kernelspec": {
   "display_name": "rag",
   "language": "python",
   "name": "python3"
  },
  "language_info": {
   "codemirror_mode": {
    "name": "ipython",
    "version": 3
   },
   "file_extension": ".py",
   "mimetype": "text/x-python",
   "name": "python",
   "nbconvert_exporter": "python",
   "pygments_lexer": "ipython3",
   "version": "3.13.1"
  }
 },
 "nbformat": 4,
 "nbformat_minor": 2
}
