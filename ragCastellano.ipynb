{
 "cells": [
  {
   "cell_type": "markdown",
   "metadata": {},
   "source": [
    "# 2. RAG en castelán que crea vector store a partir de un ou varios ficheiros pdf, en este caso utilizaremos llama 3.2"
   ]
  },
  {
   "cell_type": "code",
   "execution_count": null,
   "metadata": {},
   "outputs": [],
   "source": [
    "#Instalar librerias necesarias\n",
    "# !pip install langchain PyPDF2 langchain_huggingface chromadb"
   ]
  },
  {
   "cell_type": "code",
   "execution_count": 1,
   "metadata": {},
   "outputs": [
    {
     "name": "stderr",
     "output_type": "stream",
     "text": [
      "/home/bigdata/miniconda3/envs/rag/lib/python3.13/site-packages/tqdm/auto.py:21: TqdmWarning: IProgress not found. Please update jupyter and ipywidgets. See https://ipywidgets.readthedocs.io/en/stable/user_install.html\n",
      "  from .autonotebook import tqdm as notebook_tqdm\n",
      "Overwriting cache for 0 2994\n"
     ]
    },
    {
     "name": "stdout",
     "output_type": "stream",
     "text": [
      "Number of chunks: 84\n",
      "Documents added to the vector store.\n"
     ]
    }
   ],
   "source": [
    "import PyPDF2\n",
    "from langchain_huggingface import HuggingFaceEmbeddings\n",
    "from langchain_chroma import Chroma\n",
    "from langchain_core.prompts import ChatPromptTemplate\n",
    "from langchain_ollama.llms import OllamaLLM\n",
    "from langchain.chains import RetrievalQA\n",
    "from langchain.docstore.document import Document\n",
    "\n",
    "def extract_text_from_pdf(pdf_path):\n",
    "    with open(pdf_path, \"rb\") as file:\n",
    "        reader = PyPDF2.PdfReader(file)\n",
    "        text = \"\"\n",
    "        for page in reader.pages:\n",
    "            text += page.extract_text()\n",
    "    return text\n",
    "def split_text(text, chunk_size=500):\n",
    "    return [text[i:i + chunk_size] for i in range(0, len(text), chunk_size)]\n",
    "\n",
    "llm = OllamaLLM(model=\"llama3.2\", server_url=\"http://localhost:11434\")\n",
    "\n",
    "embedding_model = HuggingFaceEmbeddings(model_name=\"sentence-transformers/all-MiniLM-L6-v2\")\n",
    "\n",
    "vectorstore = Chroma(persist_directory=\"./vectorstore\", embedding_function=embedding_model)\n",
    "\n",
    "pdf_path = \"ciberseguridad.pdf\"\n",
    "\n",
    "page_content = extract_text_from_pdf(pdf_path)\n",
    "\n",
    "chunks = split_text(page_content)\n",
    "print(f\"Number of chunks: {len(chunks)}\")\n",
    "\n",
    "documents = [Document(page_content=chunk) for chunk in chunks]\n",
    "vectorstore.add_documents(documents)\n",
    "print(\"Documents added to the vector store.\")"
   ]
  },
  {
   "cell_type": "code",
   "execution_count": 2,
   "metadata": {},
   "outputs": [
    {
     "name": "stdout",
     "output_type": "stream",
     "text": [
      "Respuesta: {'query': '¿Cuál es el tema principal del documento?', 'result': 'El tema principal del documento es la Gestión del Riesgo de Seguridad de la Información, específicamente cómo identificar, analizar y tratar los riesgos en este ámbito. El documento se centra en proporcionar una guía para que los empresarios puedan implementar un proceso eficaz de gestión del riesgo en su organización, desde la identificación y análisis de riesgos hasta su tratamiento y seguimiento.'}\n"
     ]
    }
   ],
   "source": [
    "prompt = ChatPromptTemplate.from_template(\n",
    "    template=\"Usa el contexto a continuación para responder la pregunta del usuario:\\n\\n{context}\\n\\nPregunta: {question}\\nRespuesta:\"\n",
    ")\n",
    "\n",
    "retriever = vectorstore.as_retriever()\n",
    "\n",
    "qa_chain = RetrievalQA.from_chain_type(\n",
    "    llm=llm,\n",
    "    retriever=retriever,\n",
    "    chain_type_kwargs={\"prompt\": prompt}\n",
    ")\n",
    "\n",
    "query = \"¿Cuál es el tema principal del documento?\"\n",
    "response = qa_chain.invoke(query)\n",
    "print(\"Respuesta:\", response)"
   ]
  }
 ],
 "metadata": {
  "kernelspec": {
   "display_name": "rag",
   "language": "python",
   "name": "python3"
  },
  "language_info": {
   "codemirror_mode": {
    "name": "ipython",
    "version": 3
   },
   "file_extension": ".py",
   "mimetype": "text/x-python",
   "name": "python",
   "nbconvert_exporter": "python",
   "pygments_lexer": "ipython3",
   "version": "3.13.1"
  }
 },
 "nbformat": 4,
 "nbformat_minor": 2
}
