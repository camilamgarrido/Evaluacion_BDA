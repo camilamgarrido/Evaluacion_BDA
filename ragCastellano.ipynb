{
 "cells": [
  {
   "cell_type": "markdown",
   "metadata": {},
   "source": [
    "# Creación de sistemas RAG sobre bases de datos vectoriales desde PDFs\n",
    "\n",
    "Este proyecto implementa un sistema de Recuperación-Augmentación-Generación (RAG) que construye un almacén de vectores a partir del contenido de uno o varios archivos PDF. Utiliza el modelo `llama 3.2` junto con bibliotecas como `langchain` y `PyPDF2`.\n",
    "\n",
    "## Instalación de dependencias\n",
    "\n",
    "Antes de comenzar, instala las bibliotecas necesarias para ejecutar el proyecto:\n",
    "\n",
    "```python\n",
    "# Instalar librerías necesarias\n",
    "# !pip install langchain PyPDF2 langchain_huggingface chromadb\n"
   ]
  },
  {
   "cell_type": "markdown",
   "metadata": {},
   "source": [
    "# Extracción del contenido de un archivo PDF\n",
    "Este código extrae el texto de un archivo PDF utilizando PyPDF2. Se recorre cada página del PDF y se concatena su contenido en una sola cadena de texto."
   ]
  },
  {
   "cell_type": "code",
   "execution_count": 1,
   "metadata": {},
   "outputs": [],
   "source": [
    "import PyPDF2\n",
    "from langchain_huggingface import HuggingFaceEmbeddings\n",
    "from langchain_chroma import Chroma\n",
    "from langchain_core.prompts import ChatPromptTemplate\n",
    "from langchain_ollama.llms import OllamaLLM\n",
    "from langchain.chains import RetrievalQA\n",
    "from langchain.docstore.document import Document\n",
    "\n",
    "def extract_text_from_pdf(pdf_path):\n",
    "    with open(pdf_path, \"rb\") as file:\n",
    "        reader = PyPDF2.PdfReader(file)\n",
    "        text = \"\"\n",
    "        for page in reader.pages:\n",
    "            text += page.extract_text()\n",
    "    return text"
   ]
  },
  {
   "cell_type": "markdown",
   "metadata": {},
   "source": [
    "# División del texto en fragmentos\n",
    "Para facilitar el procesamiento de grandes cantidades de texto, se divide el contenido en fragmentos manejables de tamaño fijo (500 caracteres en este caso)."
   ]
  },
  {
   "cell_type": "code",
   "execution_count": 2,
   "metadata": {},
   "outputs": [],
   "source": [
    "def split_text(text, chunk_size=500):\n",
    "    return [text[i:i + chunk_size] for i in range(0, len(text), chunk_size)]\n"
   ]
  },
  {
   "cell_type": "markdown",
   "metadata": {},
   "source": [
    "# Configuración del modelo LLM\n",
    "Se utiliza el modelo llama 3.2 alojado en un servidor local para manejar las consultas."
   ]
  },
  {
   "cell_type": "code",
   "execution_count": 3,
   "metadata": {},
   "outputs": [],
   "source": [
    "llm = OllamaLLM(model=\"llama3.2\", server_url=\"http://localhost:11434\")\n"
   ]
  },
  {
   "cell_type": "markdown",
   "metadata": {},
   "source": [
    "# Creación del modelo de embeddings y del almacén de vectores\n",
    "El modelo de embeddings convierte el texto en representaciones vectoriales que se almacenan en una base de datos Chroma."
   ]
  },
  {
   "cell_type": "code",
   "execution_count": 4,
   "metadata": {},
   "outputs": [
    {
     "name": "stderr",
     "output_type": "stream",
     "text": [
      "/home/bigdata/miniconda3/envs/rag/lib/python3.13/site-packages/tqdm/auto.py:21: TqdmWarning: IProgress not found. Please update jupyter and ipywidgets. See https://ipywidgets.readthedocs.io/en/stable/user_install.html\n",
      "  from .autonotebook import tqdm as notebook_tqdm\n"
     ]
    }
   ],
   "source": [
    "embedding_model = HuggingFaceEmbeddings(model_name=\"sentence-transformers/all-MiniLM-L6-v2\")\n",
    "\n",
    "vectorstore = Chroma(persist_directory=\"./vectorstore\", embedding_function=embedding_model)\n"
   ]
  },
  {
   "cell_type": "markdown",
   "metadata": {},
   "source": [
    "# Procesamiento del contenido del PDF\n",
    "Aquí se lee el contenido del archivo PDF, se divide en fragmentos y se imprime la cantidad total de fragmentos obtenidos."
   ]
  },
  {
   "cell_type": "code",
   "execution_count": 5,
   "metadata": {},
   "outputs": [
    {
     "name": "stderr",
     "output_type": "stream",
     "text": [
      "Overwriting cache for 0 2994\n"
     ]
    },
    {
     "name": "stdout",
     "output_type": "stream",
     "text": [
      "Number of chunks: 84\n"
     ]
    }
   ],
   "source": [
    "pdf_path = \"ciberseguridad.pdf\"\n",
    "\n",
    "page_content = extract_text_from_pdf(pdf_path)\n",
    "\n",
    "chunks = split_text(page_content)\n",
    "print(f\"Number of chunks: {len(chunks)}\")\n"
   ]
  },
  {
   "cell_type": "markdown",
   "metadata": {},
   "source": [
    "# Adición de documentos al almacén de vectores\n",
    "Cada fragmento de texto se encapsula en un objeto Document y se agrega al almacén de vectores para su posterior recuperación."
   ]
  },
  {
   "cell_type": "code",
   "execution_count": 6,
   "metadata": {},
   "outputs": [
    {
     "name": "stdout",
     "output_type": "stream",
     "text": [
      "Documents added to the vector store.\n"
     ]
    }
   ],
   "source": [
    "documents = [Document(page_content=chunk) for chunk in chunks]\n",
    "vectorstore.add_documents(documents)\n",
    "print(\"Documents added to the vector store.\")\n"
   ]
  },
  {
   "cell_type": "markdown",
   "metadata": {},
   "source": [
    "# Definición del prompt para el sistema RAG\n",
    "Se configura un prompt para guiar al modelo en la generación de respuestas basadas en el contenido recuperado del almacén de vectores."
   ]
  },
  {
   "cell_type": "code",
   "execution_count": 7,
   "metadata": {},
   "outputs": [],
   "source": [
    "prompt = ChatPromptTemplate.from_template(\n",
    "    template=\"Usa el contexto a continuación para responder la pregunta del usuario:\\n\\n{context}\\n\\nPregunta: {question}\\nRespuesta:\"\n",
    ")\n"
   ]
  },
  {
   "cell_type": "markdown",
   "metadata": {},
   "source": [
    "# Configuración del sistema RAG\n",
    "El sistema utiliza el almacén de vectores como recuperador y lo integra con el modelo LLM para formar una cadena de consulta y respuesta."
   ]
  },
  {
   "cell_type": "code",
   "execution_count": 8,
   "metadata": {},
   "outputs": [],
   "source": [
    "retriever = vectorstore.as_retriever()\n",
    "\n",
    "qa_chain = RetrievalQA.from_chain_type(\n",
    "    llm=llm,\n",
    "    retriever=retriever,\n",
    "    chain_type_kwargs={\"prompt\": prompt}\n",
    ")\n"
   ]
  },
  {
   "cell_type": "markdown",
   "metadata": {},
   "source": [
    "# Consulta al sistema RAG\n",
    "Finalmente, se realiza una consulta al sistema para obtener una respuesta basada en el contenido del archivo PDF."
   ]
  },
  {
   "cell_type": "code",
   "execution_count": 10,
   "metadata": {},
   "outputs": [
    {
     "name": "stdout",
     "output_type": "stream",
     "text": [
      "Respuesta: {'query': '¿Cuál es el tema principal del documento?', 'result': 'El tema principal del documento es la Gestión del Riesgo de Seguridad de la Información, incluyendo los pasos y principios para identificar, priorizar y tratar riesgos en la seguridad de la información.'}\n"
     ]
    }
   ],
   "source": [
    "query = \"¿Cuál es el tema principal del documento?\"\n",
    "response = qa_chain.invoke(query)\n",
    "print(\"Respuesta:\", response)\n"
   ]
  }
 ],
 "metadata": {
  "kernelspec": {
   "display_name": "rag",
   "language": "python",
   "name": "python3"
  },
  "language_info": {
   "codemirror_mode": {
    "name": "ipython",
    "version": 3
   },
   "file_extension": ".py",
   "mimetype": "text/x-python",
   "name": "python",
   "nbconvert_exporter": "python",
   "pygments_lexer": "ipython3",
   "version": "3.13.1"
  }
 },
 "nbformat": 4,
 "nbformat_minor": 2
}
